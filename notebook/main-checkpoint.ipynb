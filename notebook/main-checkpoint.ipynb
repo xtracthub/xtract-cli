{
 "cells": [
  {
   "cell_type": "code",
   "execution_count": 381,
   "metadata": {},
   "outputs": [],
   "source": [
    "import argparse\n",
    "import pathlib\n",
    "import os\n",
    "import json\n",
    "import subprocess\n",
    "import uuid\n",
    "from funcx.sdk.client import FuncXClient\n",
    "from funcx.sdk.client import TaskPending\n",
    "from globus_sdk import TransferClient\n",
    "from globus_sdk import TransferAPIError"
   ]
  },
  {
   "cell_type": "code",
   "execution_count": 372,
   "metadata": {},
   "outputs": [],
   "source": []
  },
  {
   "cell_type": "code",
   "execution_count": 357,
   "metadata": {},
   "outputs": [
    {
     "name": "stdout",
     "output_type": "stream",
     "text": [
      "Please go to this URL and login: https://auth.globus.org/v2/oauth2/authorize?client_id=3b1925c0-a87b-452b-a492-2c9921d3bd14&redirect_uri=https%3A%2F%2Fauth.globus.org%2Fv2%2Fweb%2Fauth-code&scope=openid+profile+email+urn%3Aglobus%3Aauth%3Ascope%3Atransfer.api.globus.org%3Aall+urn%3Aglobus%3Aauth%3Ascope%3Aauth.globus.org%3Aview_identities&state=_default&response_type=code&code_challenge=u0r_slA3RcCRccDjmqRtYrTm9Bj-SpXpb4MiAzyLgTY&code_challenge_method=S256&access_type=offline\n",
      "Please enter the code you get after login here: GvFEXtQ9SL7p9Ulf6X5aIHuMObRlij\n"
     ]
    }
   ],
   "source": [
    "# As in the Platform_Introduction_Native_App_Auth notebook, do the Native App Grant Flow\n",
    "CLIENT_ID = \"3b1925c0-a87b-452b-a492-2c9921d3bd14\"\n",
    "SCOPES = \"openid profile email urn:globus:auth:scope:transfer.api.globus.org:all urn:globus:auth:scope:auth.globus.org:view_identities\"\n",
    "\n",
    "# Create an auth client for this app\n",
    "auth_client = globus_sdk.NativeAppAuthClient(CLIENT_ID)\n",
    "auth_client.oauth2_start_flow(refresh_tokens=True, requested_scopes=SCOPES)\n",
    "\n",
    "# Authenticate the auth client with auth code\n",
    "authorize_url = auth_client.oauth2_get_authorize_url()\n",
    "print(\"Please go to this URL and login: {0}\".format(authorize_url))\n",
    "\n",
    "# Acquire tokens after providing auth code\n",
    "auth_code = input(\"Please enter the code you get after login here: \").strip()\n",
    "token_response = auth_client.oauth2_exchange_code_for_tokens(auth_code)"
   ]
  },
  {
   "cell_type": "code",
   "execution_count": 382,
   "metadata": {},
   "outputs": [
    {
     "name": "stdout",
     "output_type": "stream",
     "text": [
      "{\n",
      "  \"auth.globus.org\": {\n",
      "    \"scope\": \"email profile urn:globus:auth:scope:auth.globus.org:view_identities openid\",\n",
      "    \"access_token\": \"AgqlB0j1OaxB8r5wPnQygyVqp06NNeOpDnmnV9EGyxzGndbwwOhqCrbkD2mq29zjNy3GYX4bwz8vmYsPBqm8gueaKBiawMQSwODGIOzkE\",\n",
      "    \"refresh_token\": \"AgqYz207pO8bVE93a7W5e1M1a02JeNkdzDdmDY9pvz914xev1xH2U7yXzJ5YjeO3VOWY2vB8XglMnW8yeW7q7rwQoVv3w\",\n",
      "    \"token_type\": \"Bearer\",\n",
      "    \"expires_at_seconds\": 1640989604,\n",
      "    \"resource_server\": \"auth.globus.org\"\n",
      "  },\n",
      "  \"transfer.api.globus.org\": {\n",
      "    \"scope\": \"urn:globus:auth:scope:transfer.api.globus.org:all\",\n",
      "    \"access_token\": \"AgYYlM1orGxkE0bq8YpO3DnMkyo9GyMaBQKwKj6rynQ53yVBO1sWCqVqQzWO9m3r3z1pM8XXEj4kxbCVPv9m1HevX0\",\n",
      "    \"refresh_token\": \"Ag84oK8BV5M9Ejwjw0yJee6P67jOky086Myqze8BeYWaj3l22qHaUa4QbEvnq5oVXzYyagjMrM4gGKX2ka9nOJnDOMV50\",\n",
      "    \"token_type\": \"Bearer\",\n",
      "    \"expires_at_seconds\": 1640989604,\n",
      "    \"resource_server\": \"transfer.api.globus.org\"\n",
      "  }\n",
      "}\n"
     ]
    }
   ],
   "source": [
    "# Token Response\n",
    "print(token_response)"
   ]
  },
  {
   "cell_type": "code",
   "execution_count": 384,
   "metadata": {},
   "outputs": [
    {
     "name": "stdout",
     "output_type": "stream",
     "text": [
      "Transfer client acquired.\n"
     ]
    }
   ],
   "source": [
    "# let's get stuff for the Globus Transfer/Auth services\n",
    "globus_transfer_data = token_response.by_resource_server[\"transfer.api.globus.org\"]\n",
    "globus_auth_data = token_response.by_resource_server[\"auth.globus.org\"]\n",
    "# the refresh token and access token, often abbreviated as RT and AT\n",
    "transfer_rt = globus_transfer_data[\"refresh_token\"]\n",
    "transfer_at = globus_transfer_data[\"access_token\"]\n",
    "transfer_expiry = globus_transfer_data[\"expires_at_seconds\"]\n",
    "\n",
    "# Now we've got the data we need, but what do we do?\n",
    "# That \"GlobusAuthorizer\" from before is about to come to the rescue\n",
    "authorizer = globus_sdk.RefreshTokenAuthorizer(\n",
    "    transfer_rt, native_auth_client, access_token=transfer_at, expires_at=expires_at_s\n",
    ")\n",
    "\n",
    "# and try using `tc` to make TransferClient calls. Everything should just\n",
    "# work -- for days and days, months and months, even years\n",
    "tc = globus_sdk.TransferClient(authorizer=authorizer)\n",
    "if tc is not None: print (\"Transfer client acquired.\")"
   ]
  },
  {
   "cell_type": "code",
   "execution_count": 385,
   "metadata": {},
   "outputs": [],
   "source": [
    "DEBUG = False"
   ]
  },
  {
   "cell_type": "code",
   "execution_count": 386,
   "metadata": {},
   "outputs": [],
   "source": [
    "def hello_world():\n",
    "    return 'Hello World!'\n",
    "\n",
    "def sleep_30():\n",
    "    from time import sleep\n",
    "    sleep(30)\n",
    "    return 'Woke up after 30 seconds'\n",
    "\n",
    "# Start up a funcx client -- only do this once!\n",
    "fxc = FuncXClient(timeout=60)\n",
    "\n",
    "# Register functions\n",
    "hello_world_uuid = fxc.register_function(hello_world)\n",
    "sleep_30_uuid = fxc.register_function(sleep_30)"
   ]
  },
  {
   "cell_type": "code",
   "execution_count": null,
   "metadata": {},
   "outputs": [],
   "source": []
  },
  {
   "cell_type": "code",
   "execution_count": null,
   "metadata": {},
   "outputs": [],
   "source": []
  },
  {
   "cell_type": "code",
   "execution_count": 400,
   "metadata": {},
   "outputs": [],
   "source": [
    "class UserOptions:\n",
    "  def configure_ep(self):\n",
    "    # Check whether TC and Name are provided\n",
    "    if tc is None:\n",
    "        print (\"Cannot create Xtract Endpoint -- no globus transfer client provided\")\n",
    "        return False\n",
    "    if self.configure is None:\n",
    "      print (\"Cannot create Xtract Endpoint -- no endpoint name provided.\")\n",
    "      return False\n",
    "    \n",
    "    # Load user options stored locally\n",
    "    if os.path.isfile(\"/Users/joaovictor/\" + self.configure +  \"/config2.json\"):\n",
    "      print (\"Found config file in /Users/joaovictor/\" + self.configure +  \"/config2.json\") \n",
    "      data = None\n",
    "      with open(\"/Users/joaovictor/\" + self.configure +  \"/config2.json\") as f:\n",
    "        data = json.loads(f.read())\n",
    "        for key in data.keys():\n",
    "          if DEBUG: print (key, data[key])\n",
    "          if hasattr (self, key):\n",
    "            setattr (self, key, data[key])\n",
    "    else:\n",
    "      print (\"No config file found or provided.\")\n",
    "    \n",
    "    if not self.globus_eid:\n",
    "      print(\"Cannot create Xtract Endpoint -- missing globus_eid\")\n",
    "      return False\n",
    "    if not self.local_metadata:\n",
    "      print(\"Cannot create Xtract Endpoint -- missing local metadata\")\n",
    "      return False\n",
    "    if not self.metadata_write_dir:\n",
    "      print(\"Cannot create Xtract Endpoint -- missing metadata write directory\")\n",
    "      return False\n",
    "    print (\"Created Xtract Endpoint!\")\n",
    "    return True\n",
    "\n",
    "  def __init__(self):\n",
    "    self.tc = None\n",
    "    self.configure = None\n",
    "    self.globus_eid = None\n",
    "    self.funcx_eid = None\n",
    "    self.local_metadata = None\n",
    "    self.metadata_write_dir = None"
   ]
  },
  {
   "cell_type": "code",
   "execution_count": 408,
   "metadata": {},
   "outputs": [],
   "source": [
    "'''\n",
    "Checks whether a funcx endpoint and globus endpoint are online, returning the result as a dictionary.\n",
    "Might be good to perform some basic error checking, particularly around funcx_response\n",
    "\n",
    "TODO: Catch problems in funcx-endpoint -- timeout of 30 seconds\n",
    "      Catch problems using TransferAPIError\n",
    "'''\n",
    "from time import sleep\n",
    "\n",
    "def is_online(ops:UserOptions, timeout:int):\n",
    "    res = {}\n",
    "    funcx_response = fxc.run(endpoint_id=ops.funcx_eid, function_id=hello_world_uuid)\n",
    "    globus_response = None\n",
    "    fxc_result = None\n",
    "    \n",
    "    if ops.funcx_eid is None:\n",
    "        res['funcx_eid'] = 'Funcx not present.'\n",
    "    else:\n",
    "        time_elapsed = 0\n",
    "        while time_elapsed < timeout:\n",
    "            try:\n",
    "                fxc_result = fxc.get_result(funcx_response)\n",
    "            except TaskPending as error:\n",
    "                if DEBUG: print(f'Task incomplete -- time elapsed: {time_elapsed}')\n",
    "                sleep(5)\n",
    "                time_elapsed += 5\n",
    "                if DEBUG: print(f'About to continue to next!')\n",
    "                continue\n",
    "            if DEBUG: print(f'About to call break and get out!')\n",
    "            break\n",
    "        if fxc_result is not None and fxc_result == 'Hello World!':\n",
    "            if DEBUG: print (f\"Task complete -- result: {fxc_result}\")\n",
    "            res['funcx_eid'] = 'OK'\n",
    "        if fxc_result is None:\n",
    "            res['funcx_eid'] = f'{error.reason}'\n",
    "        elif fxc_result != 'Hello World!':\n",
    "            res['funcx_eid'] = f'Error -- Expected: \\'Hello World!\\', but received: \\'{fxc_result}\\''\n",
    "    if ops.globus_eid is None:\n",
    "        res[\"globus_eid\"] = \"Globus not present.\"\n",
    "    else:\n",
    "        try:\n",
    "            endpoint = tc.get_endpoint(ops.globus_eid)\n",
    "        except TransferAPIError as error:\n",
    "            res['globus'] = f\"Error Code: {error.code}, Error Message: {error.message}\"\n",
    "            return res\n",
    "        if DEBUG: print (endpoint)\n",
    "        if endpoint is not None and endpoint[\"DATA\"][0][\"is_connected\"]:\n",
    "            res[\"globus_eid\"] = \"OK\"\n",
    "        else:\n",
    "            res[\"globus\"] = \"Error -- Globus not connected.\"\n",
    "    return res"
   ]
  },
  {
   "cell_type": "code",
   "execution_count": 406,
   "metadata": {},
   "outputs": [],
   "source": [
    "def fetch_containers(ops:UserOptions):\n",
    "    expected = {'funcx_eid': 'OK', 'globus_eid': 'OK'}\n",
    "    \n",
    "    if is_online (ops, 60) != expected:\n",
    "        print (\"Error -- run xtract_cli configure first!\")\n",
    "    else:\n",
    "        print (\"Xtract_CLI is properly configured.\")"
   ]
  },
  {
   "cell_type": "code",
   "execution_count": 407,
   "metadata": {},
   "outputs": [
    {
     "name": "stdout",
     "output_type": "stream",
     "text": [
      "Found config file in /Users/joaovictor/test/config2.json\n",
      "Created Xtract Endpoint!\n",
      "{\n",
      "  \"DATA\": [\n",
      "    {\n",
      "      \"DATA_TYPE\": \"server\",\n",
      "      \"hostname\": null,\n",
      "      \"id\": 602293,\n",
      "      \"incoming_data_port_end\": null,\n",
      "      \"incoming_data_port_start\": null,\n",
      "      \"is_connected\": false,\n",
      "      \"is_paused\": false,\n",
      "      \"outgoing_data_port_end\": null,\n",
      "      \"outgoing_data_port_start\": null,\n",
      "      \"port\": null,\n",
      "      \"scheme\": null,\n",
      "      \"subject\": \"/C=US/O=Globus Consortium/OU=Globus Connect Service/CN=f941e734-6929-11ec-9fca-1138fb542e0f\",\n",
      "      \"uri\": null\n",
      "    }\n",
      "  ],\n",
      "  \"DATA_TYPE\": \"endpoint\",\n",
      "  \"acl_available\": false,\n",
      "  \"acl_editable\": false,\n",
      "  \"activated\": true,\n",
      "  \"authentication_assurance_timeout\": null,\n",
      "  \"authentication_timeout_mins\": null,\n",
      "  \"canonical_name\": \"u_gxdlixe3ffbn3mxan6pq3ld7am#71f9aca8-6929-11ec-b2c3-1b99bfd4976a\",\n",
      "  \"contact_email\": null,\n",
      "  \"contact_info\": null,\n",
      "  \"default_directory\": null,\n",
      "  \"department\": null,\n",
      "  \"description\": null,\n",
      "  \"disable_anonymous_writes\": false,\n",
      "  \"disable_verify\": false,\n",
      "  \"display_name\": \"joaovictorMBP\",\n",
      "  \"expire_time\": \"2021-12-31T04:36:11+00:00\",\n",
      "  \"expires_in\": -1,\n",
      "  \"force_encryption\": false,\n",
      "  \"force_verify\": false,\n",
      "  \"french_english_bilingual\": false,\n",
      "  \"gcp_connected\": true,\n",
      "  \"gcp_paused\": false,\n",
      "  \"gcs_version\": null,\n",
      "  \"globus_connect_setup_key\": null,\n",
      "  \"high_assurance\": false,\n",
      "  \"host_endpoint\": null,\n",
      "  \"host_endpoint_display_name\": null,\n",
      "  \"host_endpoint_id\": null,\n",
      "  \"host_path\": null,\n",
      "  \"https_server\": null,\n",
      "  \"id\": \"71f9aca8-6929-11ec-b2c3-1b99bfd4976a\",\n",
      "  \"in_use\": false,\n",
      "  \"info_link\": null,\n",
      "  \"is_globus_connect\": true,\n",
      "  \"is_go_storage\": false,\n",
      "  \"keywords\": null,\n",
      "  \"local_user_info_available\": null,\n",
      "  \"location\": \"Automatic\",\n",
      "  \"max_concurrency\": 4,\n",
      "  \"max_parallelism\": 4,\n",
      "  \"mfa_required\": false,\n",
      "  \"my_effective_roles\": [\n",
      "    \"administrator\"\n",
      "  ],\n",
      "  \"myproxy_dn\": null,\n",
      "  \"myproxy_server\": \"myproxy.globusonline.org\",\n",
      "  \"name\": \"71f9aca8-6929-11ec-b2c3-1b99bfd4976a\",\n",
      "  \"network_use\": \"normal\",\n",
      "  \"non_functional\": false,\n",
      "  \"oauth_server\": null,\n",
      "  \"organization\": null,\n",
      "  \"owner_id\": \"35c6b45c-9b29-42dd-b2e0-6f9f0dac7f03\",\n",
      "  \"owner_string\": \"jvsr@uchicago.edu\",\n",
      "  \"preferred_concurrency\": 2,\n",
      "  \"preferred_parallelism\": 2,\n",
      "  \"public\": false,\n",
      "  \"s3_owner_activated\": false,\n",
      "  \"s3_url\": null,\n",
      "  \"shareable\": true,\n",
      "  \"sharing_target_endpoint\": null,\n",
      "  \"sharing_target_root_path\": null,\n",
      "  \"storage_type\": null,\n",
      "  \"subscription_id\": null,\n",
      "  \"tlsftp_server\": null,\n",
      "  \"user_message\": null,\n",
      "  \"user_message_link\": null,\n",
      "  \"username\": \"u_gxdlixe3ffbn3mxan6pq3ld7am\"\n",
      "}\n",
      "{'funcx_eid': 'OK', 'globus': 'Error -- Globus not connected.'}\n"
     ]
    }
   ],
   "source": [
    "ops = UserOptions()\n",
    "ops.tc = tc\n",
    "ops.configure = 'test'\n",
    "ops.configure_ep()\n",
    "\n",
    "print(is_online(ops, 60))"
   ]
  },
  {
   "cell_type": "code",
   "execution_count": 404,
   "metadata": {
    "scrolled": true
   },
   "outputs": [
    {
     "name": "stdout",
     "output_type": "stream",
     "text": [
      "Error -- run xtract_cli configure first!\n"
     ]
    }
   ],
   "source": [
    "fetch_containers(ops)"
   ]
  },
  {
   "cell_type": "code",
   "execution_count": null,
   "metadata": {},
   "outputs": [],
   "source": []
  },
  {
   "cell_type": "code",
   "execution_count": null,
   "metadata": {},
   "outputs": [],
   "source": []
  }
 ],
 "metadata": {
  "celltoolbar": "Tags",
  "interpreter": {
   "hash": "d74c300500e257aec40f36542c159da4e5c867b049e242da6e62844546cb75be"
  },
  "kernelspec": {
   "display_name": "Python 3",
   "language": "python",
   "name": "python3"
  },
  "language_info": {
   "codemirror_mode": {
    "name": "ipython",
    "version": 3
   },
   "file_extension": ".py",
   "mimetype": "text/x-python",
   "name": "python",
   "nbconvert_exporter": "python",
   "pygments_lexer": "ipython3",
   "version": "3.8.11"
  }
 },
 "nbformat": 4,
 "nbformat_minor": 2
}
