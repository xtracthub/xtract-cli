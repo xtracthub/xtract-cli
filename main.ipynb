{
 "cells": [
  {
   "cell_type": "code",
   "execution_count": 2,
   "metadata": {},
   "outputs": [],
   "source": [
    "import argparse\n",
    "import pathlib\n",
    "import os\n",
    "import json\n",
    "import subprocess\n",
    "import uuid\n",
    "from funcx.sdk.client import FuncXClient\n",
    "from globus_sdk import TransferClient\n",
    "import globus_sdk"
   ]
  },
  {
   "cell_type": "code",
   "execution_count": 187,
   "metadata": {},
   "outputs": [],
   "source": [
    "DEBUG = False"
   ]
  },
  {
   "cell_type": "code",
   "execution_count": 167,
   "metadata": {
    "tags": [
     "parameters"
    ]
   },
   "outputs": [],
   "source": [
    "def hello_world():\n",
    "    return \"Hello World!\"\n",
    "\n",
    "# Start up a funcx client -- only do this once!\n",
    "from funcx.sdk.client import FuncXClient\n",
    "fxc = FuncXClient()\n",
    "func_uuid = fxc.register_function(hello_world) # function uuid to be registered\n",
    "tutorial_endpoint = '4b116d3c-1703-4f8f-9f6f-39921e5864df' # Public tutorial endpoint"
   ]
  },
  {
   "cell_type": "code",
   "execution_count": 111,
   "metadata": {},
   "outputs": [
    {
     "name": "stdout",
     "output_type": "stream",
     "text": [
      "Login Here:\n",
      "\n",
      "https://auth.globus.org/v2/oauth2/authorize?client_id=3b1925c0-a87b-452b-a492-2c9921d3bd14&redirect_uri=https%3A%2F%2Fauth.globus.org%2Fv2%2Fweb%2Fauth-code&scope=openid+profile+email+urn%3Aglobus%3Aauth%3Ascope%3Atransfer.api.globus.org%3Aall+urn%3Aglobus%3Aauth%3Ascope%3Aauth.globus.org%3Aview_identities&state=_default&response_type=code&code_challenge=GpxpSB9OuGXYQiAOfXaNYfYbaVgDaULUTA25DX-5Uws&code_challenge_method=S256&access_type=online\n"
     ]
    }
   ],
   "source": [
    "tutorial_endpoint_1 = \"ddb59aef-6d04-11e5-ba46-22000b92c6ec\"      # endpoint \"Globus Tutorial Endpoint 1\"\n",
    "tutorial_endpoint_2 = \"ddb59af0-6d04-11e5-ba46-22000b92c6ec\"      # endpoint \"Globus Tutorial Endpoint 2\"\n",
    "\n",
    "\n",
    "# As in the Platform_Introduction_Native_App_Auth notebook, do the Native App Grant Flow\n",
    "CLIENT_ID = \"3b1925c0-a87b-452b-a492-2c9921d3bd14\"\n",
    "SCOPES = \"openid profile email urn:globus:auth:scope:transfer.api.globus.org:all urn:globus:auth:scope:auth.globus.org:view_identities\"\n",
    "native_auth_client = globus_sdk.NativeAppAuthClient(CLIENT_ID)\n",
    "native_auth_client.oauth2_start_flow(requested_scopes=SCOPES)\n",
    "print(f\"Login Here:\\n\\n{native_auth_client.oauth2_get_authorize_url()}\")"
   ]
  },
  {
   "cell_type": "code",
   "execution_count": 182,
   "metadata": {},
   "outputs": [
    {
     "ename": "AuthAPIError",
     "evalue": "(400, 'Error', 'invalid_grant')",
     "output_type": "error",
     "traceback": [
      "\u001b[0;31m---------------------------------------------------------------------------\u001b[0m",
      "\u001b[0;31mAuthAPIError\u001b[0m                              Traceback (most recent call last)",
      "\u001b[0;32m<ipython-input-182-93aa1384c48b>\u001b[0m in \u001b[0;36m<module>\u001b[0;34m\u001b[0m\n\u001b[1;32m      2\u001b[0m \u001b[0mauth_code\u001b[0m \u001b[0;34m=\u001b[0m \u001b[0;34m\"gfjIP3eCsDSWEdljciw9yCrxkd8XI4\"\u001b[0m\u001b[0;34m\u001b[0m\u001b[0;34m\u001b[0m\u001b[0m\n\u001b[1;32m      3\u001b[0m \u001b[0;34m\u001b[0m\u001b[0m\n\u001b[0;32m----> 4\u001b[0;31m \u001b[0mtoken_response\u001b[0m \u001b[0;34m=\u001b[0m \u001b[0mnative_auth_client\u001b[0m\u001b[0;34m.\u001b[0m\u001b[0moauth2_exchange_code_for_tokens\u001b[0m\u001b[0;34m(\u001b[0m\u001b[0mauth_code\u001b[0m\u001b[0;34m)\u001b[0m\u001b[0;34m\u001b[0m\u001b[0;34m\u001b[0m\u001b[0m\n\u001b[0m\u001b[1;32m      5\u001b[0m \u001b[0mtransfer_access_token\u001b[0m \u001b[0;34m=\u001b[0m \u001b[0mtoken_response\u001b[0m\u001b[0;34m.\u001b[0m\u001b[0mby_resource_server\u001b[0m\u001b[0;34m[\u001b[0m\u001b[0;34m'transfer.api.globus.org'\u001b[0m\u001b[0;34m]\u001b[0m\u001b[0;34m[\u001b[0m\u001b[0;34m'access_token'\u001b[0m\u001b[0;34m]\u001b[0m\u001b[0;34m\u001b[0m\u001b[0;34m\u001b[0m\u001b[0m\n\u001b[1;32m      6\u001b[0m \u001b[0mtransfer_authorizer\u001b[0m \u001b[0;34m=\u001b[0m \u001b[0mglobus_sdk\u001b[0m\u001b[0;34m.\u001b[0m\u001b[0mAccessTokenAuthorizer\u001b[0m\u001b[0;34m(\u001b[0m\u001b[0mtransfer_access_token\u001b[0m\u001b[0;34m)\u001b[0m\u001b[0;34m\u001b[0m\u001b[0;34m\u001b[0m\u001b[0m\n",
      "\u001b[0;32m~/miniconda3/envs/xtract-service/lib/python3.8/site-packages/globus_sdk/auth/client_types/base.py\u001b[0m in \u001b[0;36moauth2_exchange_code_for_tokens\u001b[0;34m(self, auth_code)\u001b[0m\n\u001b[1;32m    197\u001b[0m             )\n\u001b[1;32m    198\u001b[0m \u001b[0;34m\u001b[0m\u001b[0m\n\u001b[0;32m--> 199\u001b[0;31m         \u001b[0;32mreturn\u001b[0m \u001b[0mself\u001b[0m\u001b[0;34m.\u001b[0m\u001b[0mcurrent_oauth2_flow_manager\u001b[0m\u001b[0;34m.\u001b[0m\u001b[0mexchange_code_for_tokens\u001b[0m\u001b[0;34m(\u001b[0m\u001b[0mauth_code\u001b[0m\u001b[0;34m)\u001b[0m\u001b[0;34m\u001b[0m\u001b[0;34m\u001b[0m\u001b[0m\n\u001b[0m\u001b[1;32m    200\u001b[0m \u001b[0;34m\u001b[0m\u001b[0m\n\u001b[1;32m    201\u001b[0m     \u001b[0;32mdef\u001b[0m \u001b[0moauth2_refresh_token\u001b[0m\u001b[0;34m(\u001b[0m\u001b[0mself\u001b[0m\u001b[0;34m,\u001b[0m \u001b[0mrefresh_token\u001b[0m\u001b[0;34m,\u001b[0m \u001b[0madditional_params\u001b[0m\u001b[0;34m=\u001b[0m\u001b[0;32mNone\u001b[0m\u001b[0;34m)\u001b[0m\u001b[0;34m:\u001b[0m\u001b[0;34m\u001b[0m\u001b[0;34m\u001b[0m\u001b[0m\n",
      "\u001b[0;32m~/miniconda3/envs/xtract-service/lib/python3.8/site-packages/globus_sdk/auth/oauth2_native_app.py\u001b[0m in \u001b[0;36mexchange_code_for_tokens\u001b[0;34m(self, auth_code)\u001b[0m\n\u001b[1;32m    205\u001b[0m             \u001b[0;34m\"Sending verifier and client_id\"\u001b[0m\u001b[0;34m\u001b[0m\u001b[0;34m\u001b[0m\u001b[0m\n\u001b[1;32m    206\u001b[0m         )\n\u001b[0;32m--> 207\u001b[0;31m         return self.auth_client.oauth2_token(\n\u001b[0m\u001b[1;32m    208\u001b[0m             {\n\u001b[1;32m    209\u001b[0m                 \u001b[0;34m\"client_id\"\u001b[0m\u001b[0;34m:\u001b[0m \u001b[0mself\u001b[0m\u001b[0;34m.\u001b[0m\u001b[0mclient_id\u001b[0m\u001b[0;34m,\u001b[0m\u001b[0;34m\u001b[0m\u001b[0;34m\u001b[0m\u001b[0m\n",
      "\u001b[0;32m~/miniconda3/envs/xtract-service/lib/python3.8/site-packages/globus_sdk/auth/client_types/base.py\u001b[0m in \u001b[0;36moauth2_token\u001b[0;34m(self, form_data, response_class)\u001b[0m\n\u001b[1;32m    354\u001b[0m         \u001b[0;31m# use the fact that requests implicitly encodes the `data` parameter as\u001b[0m\u001b[0;34m\u001b[0m\u001b[0;34m\u001b[0m\u001b[0;34m\u001b[0m\u001b[0m\n\u001b[1;32m    355\u001b[0m         \u001b[0;31m# a form POST\u001b[0m\u001b[0;34m\u001b[0m\u001b[0;34m\u001b[0m\u001b[0;34m\u001b[0m\u001b[0m\n\u001b[0;32m--> 356\u001b[0;31m         return self.post(\n\u001b[0m\u001b[1;32m    357\u001b[0m             \u001b[0;34m\"/v2/oauth2/token\"\u001b[0m\u001b[0;34m,\u001b[0m \u001b[0mresponse_class\u001b[0m\u001b[0;34m=\u001b[0m\u001b[0mresponse_class\u001b[0m\u001b[0;34m,\u001b[0m \u001b[0mtext_body\u001b[0m\u001b[0;34m=\u001b[0m\u001b[0mform_data\u001b[0m\u001b[0;34m\u001b[0m\u001b[0;34m\u001b[0m\u001b[0m\n\u001b[1;32m    358\u001b[0m         )\n",
      "\u001b[0;32m~/miniconda3/envs/xtract-service/lib/python3.8/site-packages/globus_sdk/base.py\u001b[0m in \u001b[0;36mpost\u001b[0;34m(self, path, json_body, params, headers, text_body, response_class, retry_401)\u001b[0m\n\u001b[1;32m    253\u001b[0m         \"\"\"\n\u001b[1;32m    254\u001b[0m         \u001b[0mself\u001b[0m\u001b[0;34m.\u001b[0m\u001b[0mlogger\u001b[0m\u001b[0;34m.\u001b[0m\u001b[0mdebug\u001b[0m\u001b[0;34m(\u001b[0m\u001b[0;34mf\"POST to {path} with params {params}\"\u001b[0m\u001b[0;34m)\u001b[0m\u001b[0;34m\u001b[0m\u001b[0;34m\u001b[0m\u001b[0m\n\u001b[0;32m--> 255\u001b[0;31m         return self._request(\n\u001b[0m\u001b[1;32m    256\u001b[0m             \u001b[0;34m\"POST\"\u001b[0m\u001b[0;34m,\u001b[0m\u001b[0;34m\u001b[0m\u001b[0;34m\u001b[0m\u001b[0m\n\u001b[1;32m    257\u001b[0m             \u001b[0mpath\u001b[0m\u001b[0;34m,\u001b[0m\u001b[0;34m\u001b[0m\u001b[0;34m\u001b[0m\u001b[0m\n",
      "\u001b[0;32m~/miniconda3/envs/xtract-service/lib/python3.8/site-packages/globus_sdk/base.py\u001b[0m in \u001b[0;36m_request\u001b[0;34m(self, method, path, params, headers, json_body, text_body, response_class, retry_401)\u001b[0m\n\u001b[1;32m    494\u001b[0m             \u001b[0;34mf\"request completed with (error) response code: {r.status_code}\"\u001b[0m\u001b[0;34m\u001b[0m\u001b[0;34m\u001b[0m\u001b[0m\n\u001b[1;32m    495\u001b[0m         )\n\u001b[0;32m--> 496\u001b[0;31m         \u001b[0;32mraise\u001b[0m \u001b[0mself\u001b[0m\u001b[0;34m.\u001b[0m\u001b[0merror_class\u001b[0m\u001b[0;34m(\u001b[0m\u001b[0mr\u001b[0m\u001b[0;34m)\u001b[0m\u001b[0;34m\u001b[0m\u001b[0;34m\u001b[0m\u001b[0m\n\u001b[0m\u001b[1;32m    497\u001b[0m \u001b[0;34m\u001b[0m\u001b[0m\n\u001b[1;32m    498\u001b[0m \u001b[0;34m\u001b[0m\u001b[0m\n",
      "\u001b[0;31mAuthAPIError\u001b[0m: (400, 'Error', 'invalid_grant')"
     ]
    }
   ],
   "source": [
    "# Fill this line in with the code that you got\n",
    "auth_code = \"gfjIP3eCsDSWEdljciw9yCrxkd8XI4\"\n",
    "\n",
    "token_response = native_auth_client.oauth2_exchange_code_for_tokens(auth_code)\n",
    "transfer_access_token = token_response.by_resource_server['transfer.api.globus.org']['access_token']\n",
    "transfer_authorizer = globus_sdk.AccessTokenAuthorizer(transfer_access_token)\n",
    "\n",
    "# Your TransferClient is named \"tc\"\n",
    "tc = globus_sdk.TransferClient(authorizer=transfer_authorizer)\n",
    "print(f\"TransferClient:\\n\\n{tc}\")"
   ]
  },
  {
   "cell_type": "code",
   "execution_count": 184,
   "metadata": {},
   "outputs": [],
   "source": [
    "class UserOptions:\n",
    "  def configure_ep(self):\n",
    "    if tc is None:\n",
    "        print (\"Cannot create Xtract Endpoint -- no globus transfer client provided\")\n",
    "        return False\n",
    "    if self.configure is None:\n",
    "      print (\"Cannot create Xtract Endpoint -- no endpoint name provided.\")\n",
    "      return False\n",
    "    \n",
    "    # Load user options stored locally\n",
    "    if os.path.isfile(\"/Users/joaovictor/\" + self.configure +  \"/config.json\"):\n",
    "      print (\"Found config file in /Users/joaovictor/\" + self.configure +  \"/config.json\") \n",
    "      data = None\n",
    "      with open(\"/Users/joaovictor/\" + self.configure +  \"/config.json\") as f:\n",
    "        data = json.loads(f.read())\n",
    "        for key in data.keys():\n",
    "          if DEBUG: print (key, data[key])\n",
    "          if hasattr (self, key):\n",
    "            setattr (self, key, data[key])\n",
    "    else:\n",
    "      print (\"No config file found or provided.\")\n",
    "    \n",
    "    if not self.globus_eid:\n",
    "      print(\"Cannot create Xtract Endpoint -- missing globus_eid\")\n",
    "      return False\n",
    "    if not self.local_metadata:\n",
    "      print(\"Cannot create Xtract Endpoint -- missing local metadata\")\n",
    "      return False\n",
    "    if not self.metadata_write_dir:\n",
    "      print(\"Cannot create Xtract Endpoint -- missing metadata write directory\")\n",
    "      return False\n",
    "    print (\"Created Xtract Endpoint!\")\n",
    "    return True\n",
    "\n",
    "  def __init__(self):\n",
    "    self.tc = None\n",
    "    self.configure = None\n",
    "    self.globus_eid = None\n",
    "    self.funcx_eid = None\n",
    "    self.local_metadata = None\n",
    "    self.metadata_write_dir = None"
   ]
  },
  {
   "cell_type": "code",
   "execution_count": 190,
   "metadata": {},
   "outputs": [],
   "source": [
    "'''\n",
    "Checks whether a funcx endpoint and globus endpoint are online, returning the result as a dictionary.\n",
    "Might be good to perform some basic error checking, particularly around funcx_response\n",
    "'''\n",
    "def is_online(ops:UserOptions):\n",
    "    res = {}\n",
    "    funcx_response = fxc.run(endpoint_id=ops.funcx_eid, function_id=func_uuid)\n",
    "    globus_response = None\n",
    "    \n",
    "    if ops.funcx_eid is None:\n",
    "        res['funcx_eid'] = 'Funcx not present.'\n",
    "    else:\n",
    "        if fxc.get_result(funcx_response) == 'Hello World!':\n",
    "            res['funcx_eid'] = 'OK'\n",
    "        else:\n",
    "            res['funcx_eid'] = f'Not OK -- Expected: \\'Hello World!\\', but received: \\'{fxc.get_result(funcx_response)}\\''\n",
    "    \n",
    "    if ops.globus_eid is None:\n",
    "        res['globus_eid'] = 'Globus not present.'\n",
    "    else:\n",
    "        endpoint = tc.get_endpoint(ops.globus_eid)\n",
    "        if endpoint is not None and endpoint[\"DATA\"][0][\"is_connected\"]:\n",
    "            res['globus_eid'] = 'OK'\n",
    "        else:\n",
    "            res['globus'] = 'Not OK'\n",
    "    return res"
   ]
  },
  {
   "cell_type": "code",
   "execution_count": null,
   "metadata": {},
   "outputs": [],
   "source": []
  },
  {
   "cell_type": "code",
   "execution_count": 191,
   "metadata": {},
   "outputs": [
    {
     "name": "stdout",
     "output_type": "stream",
     "text": [
      "Found config file in /Users/joaovictor/test/config.json\n",
      "Created Xtract Endpoint!\n",
      "{'funcx_eid': 'OK', 'globus_eid': 'OK'}\n"
     ]
    }
   ],
   "source": [
    "ops = UserOptions()\n",
    "ops.tc = tc\n",
    "ops.configure = 'test'\n",
    "ops.configure_ep()\n",
    "\n",
    "print(is_online(ops))"
   ]
  },
  {
   "cell_type": "code",
   "execution_count": null,
   "metadata": {},
   "outputs": [],
   "source": []
  },
  {
   "cell_type": "code",
   "execution_count": null,
   "metadata": {},
   "outputs": [],
   "source": []
  }
 ],
 "metadata": {
  "celltoolbar": "Tags",
  "interpreter": {
   "hash": "d74c300500e257aec40f36542c159da4e5c867b049e242da6e62844546cb75be"
  },
  "kernelspec": {
   "display_name": "Python 3",
   "language": "python",
   "name": "python3"
  },
  "language_info": {
   "codemirror_mode": {
    "name": "ipython",
    "version": 3
   },
   "file_extension": ".py",
   "mimetype": "text/x-python",
   "name": "python",
   "nbconvert_exporter": "python",
   "pygments_lexer": "ipython3",
   "version": "3.8.11"
  }
 },
 "nbformat": 4,
 "nbformat_minor": 2
}
