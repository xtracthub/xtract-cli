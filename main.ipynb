{
 "cells": [
  {
   "cell_type": "code",
   "execution_count": 52,
   "metadata": {},
   "outputs": [],
   "source": [
    "import argparse\n",
    "import pathlib\n",
    "import os\n",
    "import json\n",
    "import subprocess\n",
    "import uuid\n",
    "import requests\n",
    "from funcx.sdk.client import (FuncXClient, TaskPending)\n",
    "from globus_sdk import (TransferClient, TransferAPIError, NativeAppAuthClient, TransferClient, \n",
    "                        RefreshTokenAuthorizer)\n",
    "import globus_sdk"
   ]
  },
  {
   "cell_type": "code",
   "execution_count": 8,
   "metadata": {},
   "outputs": [],
   "source": [
    "# UUID of Petrel\n",
    "petrel_uuid = f\"4f99675c-ac1f-11ea-bee8-0e716405a293\"\n",
    "auth_code = f\"1afsU4wp0Opkkm3rL4rVTMqMVuIPp8\""
   ]
  },
  {
   "cell_type": "code",
   "execution_count": 9,
   "metadata": {},
   "outputs": [
    {
     "name": "stdout",
     "output_type": "stream",
     "text": [
      "Please go to this URL and login: https://auth.globus.org/v2/oauth2/authorize?client_id=3b1925c0-a87b-452b-a492-2c9921d3bd14&redirect_uri=https%3A%2F%2Fauth.globus.org%2Fv2%2Fweb%2Fauth-code&scope=openid+profile+email+urn%3Aglobus%3Aauth%3Ascope%3Atransfer.api.globus.org%3Aall+urn%3Aglobus%3Aauth%3Ascope%3Aauth.globus.org%3Aview_identities&state=_default&response_type=code&code_challenge=0hBslQ5lBwNkPH6wmvxT5F-mwHBhDmu6mKwHrWz0Pu0&code_challenge_method=S256&access_type=offline\n",
      "Please enter the code you get after login here: TC3UeDJgqcC3YwgOoQoMHRO5TgTO26\n"
     ]
    }
   ],
   "source": [
    "# DO NOT RUN THIS CELL!!!\n",
    "\n",
    "# As in the Platform_Introduction_Native_App_Auth notebook, do the Native App Grant Flow\n",
    "CLIENT_ID = \"3b1925c0-a87b-452b-a492-2c9921d3bd14\"\n",
    "SCOPES = \"openid profile email urn:globus:auth:scope:transfer.api.globus.org:all urn:globus:auth:scope:auth.globus.org:view_identities\"\n",
    "\n",
    "# Create an auth client for this app\n",
    "auth_client = NativeAppAuthClient(CLIENT_ID)\n",
    "auth_client.oauth2_start_flow(refresh_tokens=True, requested_scopes=SCOPES)\n",
    "\n",
    "# Authenticate the auth client with auth code\n",
    "authorize_url = auth_client.oauth2_get_authorize_url()\n",
    "print(\"Please go to this URL and login: {0}\".format(authorize_url))\n",
    "\n",
    "# Acquire tokens after providing auth code\n",
    "auth_code = input(\"Please enter the code you get after login here: \").strip()"
   ]
  },
  {
   "cell_type": "code",
   "execution_count": 10,
   "metadata": {},
   "outputs": [
    {
     "name": "stdout",
     "output_type": "stream",
     "text": [
      "{\n",
      "  \"auth.globus.org\": {\n",
      "    \"scope\": \"email urn:globus:auth:scope:auth.globus.org:view_identities openid profile\",\n",
      "    \"access_token\": \"AgM8OkGV3mvw9vj7PyKeg94VVd1oja8wX1rj23Np99X7mkrg6EcOCz2qqVVQ5W85qm06wOzNJ0NvQJfvydP66HyzmPUQ4kohzd8kc4wN3\",\n",
      "    \"refresh_token\": \"AgwOONDVOy04YJ7VNy9Egl96vvw4rlJoEVy0qz99jEJOxNQpjDsJU3eN4MJemPp5rrdEynqXeQJY32BoWX01Qe14l2Or\",\n",
      "    \"token_type\": \"Bearer\",\n",
      "    \"expires_at_seconds\": 1641579693,\n",
      "    \"resource_server\": \"auth.globus.org\"\n",
      "  },\n",
      "  \"transfer.api.globus.org\": {\n",
      "    \"scope\": \"urn:globus:auth:scope:transfer.api.globus.org:all\",\n",
      "    \"access_token\": \"AgjPbGPPdj5oxmkrml6Woa4m6Ep8226azzYJ1eEMYNJaVjOKG3u9C49Q88d9dOo6EWk4p7P64NJQ1mfpdrG00IJxk6\",\n",
      "    \"refresh_token\": \"AgQNOBp00aNqm1Bvm49rW8zYpn4G69N9KMya5k430jV9eQG97zCwUMQb61WWNJvqgO3z3pzBzD7p8alXjNPVKeYBYVj9a\",\n",
      "    \"token_type\": \"Bearer\",\n",
      "    \"expires_at_seconds\": 1641579693,\n",
      "    \"resource_server\": \"transfer.api.globus.org\"\n",
      "  }\n",
      "}\n"
     ]
    }
   ],
   "source": [
    "# Token Response\n",
    "token_response = auth_client.oauth2_exchange_code_for_tokens(auth_code)\n",
    "print(token_response)"
   ]
  },
  {
   "cell_type": "code",
   "execution_count": 11,
   "metadata": {},
   "outputs": [
    {
     "name": "stdout",
     "output_type": "stream",
     "text": [
      "Transfer client acquired.\n"
     ]
    }
   ],
   "source": [
    "# let's get stuff for the Globus Transfer/Auth services\n",
    "globus_transfer_data = token_response.by_resource_server[\"transfer.api.globus.org\"]\n",
    "globus_auth_data = token_response.by_resource_server[\"auth.globus.org\"]\n",
    "# the refresh token and access token, often abbreviated as RT and AT\n",
    "transfer_rt = globus_transfer_data[\"refresh_token\"]\n",
    "transfer_at = globus_transfer_data[\"access_token\"]\n",
    "transfer_expiry = globus_transfer_data[\"expires_at_seconds\"]\n",
    "\n",
    "# Now we've got the data we need, but what do we do?\n",
    "# That \"GlobusAuthorizer\" from before is about to come to the rescue\n",
    "authorizer = RefreshTokenAuthorizer(\n",
    "    transfer_rt, auth_client, access_token=transfer_at, expires_at=transfer_expiry\n",
    ")\n",
    "\n",
    "# and try using `tc` to make TransferClient calls. Everything should just\n",
    "# work -- for days and days, months and months, even years\n",
    "tc = TransferClient(authorizer=authorizer)\n",
    "if tc is not None: print (\"Transfer client acquired.\")"
   ]
  },
  {
   "cell_type": "code",
   "execution_count": 12,
   "metadata": {},
   "outputs": [],
   "source": [
    "DEBUG = False"
   ]
  },
  {
   "cell_type": "code",
   "execution_count": 13,
   "metadata": {},
   "outputs": [],
   "source": [
    "def hello_world():\n",
    "    return 'Hello World!'\n",
    "\n",
    "def sleep_30():\n",
    "    from time import sleep\n",
    "    sleep(30)\n",
    "    return 'Woke up after 30 seconds'\n",
    "\n",
    "# Start up a funcx client -- only do this once!\n",
    "fxc = FuncXClient(timeout=60)\n",
    "\n",
    "# Register functions\n",
    "hello_world_uuid = fxc.register_function(hello_world)\n",
    "sleep_30_uuid = fxc.register_function(sleep_30)"
   ]
  },
  {
   "cell_type": "code",
   "execution_count": null,
   "metadata": {},
   "outputs": [],
   "source": []
  },
  {
   "cell_type": "code",
   "execution_count": null,
   "metadata": {},
   "outputs": [],
   "source": []
  },
  {
   "cell_type": "code",
   "execution_count": 14,
   "metadata": {},
   "outputs": [],
   "source": [
    "class UserOptions:\n",
    "  def configure_ep(self):\n",
    "    # Check whether TC and Name are provided\n",
    "    if tc is None:\n",
    "        print (\"Cannot create Xtract Endpoint -- no globus transfer client provided\")\n",
    "        return False\n",
    "    if self.configure is None:\n",
    "      print (\"Cannot create Xtract Endpoint -- no endpoint name provided.\")\n",
    "      return False\n",
    "    \n",
    "    # Load user options stored locally\n",
    "    if os.path.isfile(\"/Users/joaovictor/\" + self.configure +  \"/config2.json\"):\n",
    "      print (\"Found config file in /Users/joaovictor/\" + self.configure +  \"/config2.json\") \n",
    "      data = None\n",
    "      with open(\"/Users/joaovictor/\" + self.configure +  \"/config2.json\") as f:\n",
    "        data = json.loads(f.read())\n",
    "        for key in data.keys():\n",
    "          if DEBUG: print (key, data[key])\n",
    "          if hasattr (self, key):\n",
    "            setattr (self, key, data[key])\n",
    "    else:\n",
    "      print (\"No config file found or provided.\")\n",
    "    \n",
    "    if not self.globus_eid:\n",
    "      print(\"Cannot create Xtract Endpoint -- missing globus_eid\")\n",
    "      return False\n",
    "    if not self.local_metadata:\n",
    "      print(\"Cannot create Xtract Endpoint -- missing local metadata\")\n",
    "      return False\n",
    "    if not self.metadata_write_dir:\n",
    "      print(\"Cannot create Xtract Endpoint -- missing metadata write directory\")\n",
    "      return False\n",
    "    print (\"Created Xtract Endpoint!\")\n",
    "    return True\n",
    "\n",
    "  def __init__(self):\n",
    "    self.tc = None\n",
    "    self.configure = None\n",
    "    self.globus_eid = None\n",
    "    self.funcx_eid = None\n",
    "    self.local_metadata = None\n",
    "    self.metadata_write_dir = None"
   ]
  },
  {
   "cell_type": "code",
   "execution_count": 25,
   "metadata": {},
   "outputs": [],
   "source": [
    "'''\n",
    "Checks whether a funcx endpoint and globus endpoint are online, returning the result as a dictionary.\n",
    "Might be good to perform some basic error checking, particularly around funcx_response\n",
    "\n",
    "TODO: Catch problems in funcx-endpoint -- timeout of 30 seconds\n",
    "      Catch problems using TransferAPIError\n",
    "'''\n",
    "from time import sleep\n",
    "\n",
    "def funcx_is_online(funcx_eid:str, func_uuid:str):\n",
    "    timeout = 60\n",
    "    funcx_response = fxc.run(endpoint_id=ops.funcx_eid, function_id=hello_world_uuid)\n",
    "    fxc_result = None\n",
    "    if not funcx_eid:\n",
    "        return \"Error - Funcx Endpoint ID not provided.\"\n",
    "    if not func_uuid:\n",
    "        return \"Error - Function UUID not provided.\"\n",
    "    time_elapsed = 0\n",
    "    while time_elapsed < timeout:\n",
    "        try:\n",
    "            fxc_result = fxc.get_result(funcx_response)\n",
    "        except TaskPending as error:\n",
    "            if DEBUG: print(f\"Task incomplete -- time elapsed: {time_elapsed}\")\n",
    "            sleep(5)\n",
    "            time_elapsed += 5\n",
    "            if DEBUG: print(f\"About to continue to next!\")\n",
    "            continue\n",
    "        if DEBUG: print(f\"About to call break and get out!\")\n",
    "        break\n",
    "    if fxc_result is not None and fxc_result == 'Hello World!':\n",
    "        if DEBUG: print (f\"Task complete -- result: {fxc_result}\")\n",
    "        return \"OK\"\n",
    "    if fxc_result is None:\n",
    "        return f\"{error.reason}\"\n",
    "    elif fxc_result != 'Hello World!':\n",
    "        return f\"Error -- Expected: \\'Hello World!\\', but received: \\'{fxc_result}\\'\"\n",
    "    \n",
    "def globus_is_online(globus_eid:str):\n",
    "    if ops.globus_eid is None:\n",
    "        return \"Error - Globus Endpoint ID not provided.\"\n",
    "    try:\n",
    "        endpoint = tc.get_endpoint(ops.globus_eid)\n",
    "    except TransferAPIError as error:\n",
    "        return f\"Error -- Code: {error.code} {error.message}\"\n",
    "    \n",
    "    if DEBUG: print (endpoint)\n",
    "    if endpoint is not None: # and endpoint[\"DATA\"][0][\"is_connected\"]:\n",
    "        return \"OK\"\n",
    "    else: \n",
    "        return \"Not OK\"\n",
    "    \n",
    "def is_online(funcx_eid:str, func_uuid:str, globus_eid:str):\n",
    "    res = dict()\n",
    "    res[\"funcx\"] = funcx_is_online(funcx_eid, func_uuid)\n",
    "    res[\"globus\"] = globus_is_online(globus_eid)\n",
    "    return res"
   ]
  },
  {
   "cell_type": "code",
   "execution_count": 65,
   "metadata": {},
   "outputs": [],
   "source": [
    "def fetch_containers(ops:UserOptions, source:str, request:dict):\n",
    "    print (f\"Fetching containers:\")\n",
    "    print (f\"Destination: {ops.globus_eid}\")\n",
    "    print (f\"Source: {source}\")\n",
    "    \n",
    "    expected = {'funcx': 'OK', 'globus': 'OK'}\n",
    "    print (is_online (ops.funcx_eid, hello_world_uuid, ops.globus_eid))\n",
    "    \n",
    "    if is_online (ops.funcx_eid, hello_world_uuid, ops.globus_eid) != expected:\n",
    "        print (\"Error -- run xtract_cli configure first!\")\n",
    "    else:\n",
    "        print (\"Xtract_CLI is properly configured.\")\n",
    "        \n",
    "\n",
    "    print (request)\n",
    "    \n",
    "    tc = ops.tc\n",
    "    print (tc)\n",
    "    \n",
    "    tdata = globus_sdk.TransferData(ops.tc, source,\n",
    "                                    ops.globus_eid,\n",
    "                                    label=\"cloning xtract python image\",\n",
    "                                    sync_level=\"checksum\")\n",
    "    tdata.add_item (request[\"source_path\"], request[\"destination_path\"])\n",
    "    \n",
    "    transfer_result = tc.submit_transfer(tdata)\n",
    "    print(\"task_id =\", transfer_result[\"task_id\"])"
   ]
  },
  {
   "cell_type": "code",
   "execution_count": 62,
   "metadata": {},
   "outputs": [
    {
     "name": "stdout",
     "output_type": "stream",
     "text": [
      "Found config file in /Users/joaovictor/test/config2.json\n",
      "Created Xtract Endpoint!\n"
     ]
    },
    {
     "data": {
      "text/plain": [
       "True"
      ]
     },
     "execution_count": 62,
     "metadata": {},
     "output_type": "execute_result"
    }
   ],
   "source": [
    "ops = UserOptions()\n",
    "ops.tc = tc\n",
    "ops.configure = 'test'\n",
    "ops.configure_ep()"
   ]
  },
  {
   "cell_type": "code",
   "execution_count": 63,
   "metadata": {
    "scrolled": true
   },
   "outputs": [
    {
     "data": {
      "text/plain": [
       "{'funcx': 'OK', 'globus': 'OK'}"
      ]
     },
     "execution_count": 63,
     "metadata": {},
     "output_type": "execute_result"
    }
   ],
   "source": [
    "is_online (ops.funcx_eid, hello_world_uuid, ops.globus_eid)"
   ]
  },
  {
   "cell_type": "code",
   "execution_count": null,
   "metadata": {},
   "outputs": [],
   "source": []
  },
  {
   "cell_type": "code",
   "execution_count": 66,
   "metadata": {},
   "outputs": [
    {
     "name": "stdout",
     "output_type": "stream",
     "text": [
      "Fetching containers:\n",
      "Destination: 71f9aca8-6929-11ec-b2c3-1b99bfd4976a\n",
      "Source: 4f99675c-ac1f-11ea-bee8-0e716405a293\n",
      "{'funcx': 'OK', 'globus': 'OK'}\n",
      "Xtract_CLI is properly configured.\n",
      "{'DATA_TYPE': 'transfer_item', 'source_path': '/XtractContainerLibrary/xtract-python.img', 'destination_path': '/~/Desktop/containers/xtract-python2.img', 'recursive': False}\n",
      "<globus_sdk.transfer.client.TransferClient object at 0x7f873732dca0>\n",
      "task_id = 76b60106-6e5b-11ec-bdef-55fe55c2cfea\n"
     ]
    }
   ],
   "source": [
    "DESTINATION = \"/~/Desktop/containers/xtract-python2.img\"\n",
    "SOURCE = \"/XtractContainerLibrary/xtract-python.img\"\n",
    "\n",
    "transfer_request = {\n",
    "    \"DATA_TYPE\": \"transfer_item\",\n",
    "    \"source_path\": SOURCE,\n",
    "    \"destination_path\": DESTINATION,\n",
    "    \"recursive\": False\n",
    "}\n",
    "\n",
    "fetch_containers(ops, petrel_uuid, transfer_request)"
   ]
  },
  {
   "cell_type": "code",
   "execution_count": null,
   "metadata": {},
   "outputs": [],
   "source": []
  }
 ],
 "metadata": {
  "celltoolbar": "Tags",
  "interpreter": {
   "hash": "d74c300500e257aec40f36542c159da4e5c867b049e242da6e62844546cb75be"
  },
  "kernelspec": {
   "display_name": "Python 3",
   "language": "python",
   "name": "python3"
  },
  "language_info": {
   "codemirror_mode": {
    "name": "ipython",
    "version": 3
   },
   "file_extension": ".py",
   "mimetype": "text/x-python",
   "name": "python",
   "nbconvert_exporter": "python",
   "pygments_lexer": "ipython3",
   "version": "3.8.11"
  }
 },
 "nbformat": 4,
 "nbformat_minor": 2
}
