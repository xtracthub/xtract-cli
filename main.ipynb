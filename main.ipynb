{
 "cells": [
  {
   "cell_type": "code",
   "execution_count": 204,
   "metadata": {},
   "outputs": [],
   "source": [
    "import argparse\n",
    "import pathlib\n",
    "import os\n",
    "import json\n",
    "import subprocess\n",
    "import uuid\n",
    "from funcx.sdk.client import FuncXClient\n",
    "from funcx.sdk.client import TaskPending\n",
    "from globus_sdk import TransferClient\n",
    "from globus_sdk import TransferAPIError"
   ]
  },
  {
   "cell_type": "code",
   "execution_count": 258,
   "metadata": {},
   "outputs": [],
   "source": [
    "DEBUG = False"
   ]
  },
  {
   "cell_type": "code",
   "execution_count": 206,
   "metadata": {},
   "outputs": [],
   "source": [
    "def hello_world():\n",
    "    return 'Hello World!'\n",
    "\n",
    "def sleep_30():\n",
    "    from time import sleep\n",
    "    sleep(30)\n",
    "    return 'Woke up after 30 seconds'\n",
    "\n",
    "\n",
    "# Start up a funcx client -- only do this once!\n",
    "from funcx.sdk.client import FuncXClient\n",
    "fxc = FuncXClient(timeout=60)\n",
    "hello_world_uuid = fxc.register_function(hello_world) # function uuid to be registered\n",
    "sleep_30_uuid = fxc.register_function(sleep_30)\n",
    "\n",
    "tutorial_endpoint = '4b116d3c-1703-4f8f-9f6f-39921e5864df' # Public tutorial endpoint"
   ]
  },
  {
   "cell_type": "code",
   "execution_count": 207,
   "metadata": {},
   "outputs": [
    {
     "name": "stdout",
     "output_type": "stream",
     "text": [
      "Login Here:\n",
      "\n",
      "https://auth.globus.org/v2/oauth2/authorize?client_id=3b1925c0-a87b-452b-a492-2c9921d3bd14&redirect_uri=https%3A%2F%2Fauth.globus.org%2Fv2%2Fweb%2Fauth-code&scope=openid+profile+email+urn%3Aglobus%3Aauth%3Ascope%3Atransfer.api.globus.org%3Aall+urn%3Aglobus%3Aauth%3Ascope%3Aauth.globus.org%3Aview_identities&state=_default&response_type=code&code_challenge=PVUz_OzKuxQCF9vqSWdhvAB6NY0HtIr5lTukilzznrU&code_challenge_method=S256&access_type=online\n"
     ]
    }
   ],
   "source": [
    "tutorial_endpoint_1 = \"ddb59aef-6d04-11e5-ba46-22000b92c6ec\"      # endpoint \"Globus Tutorial Endpoint 1\"\n",
    "tutorial_endpoint_2 = \"ddb59af0-6d04-11e5-ba46-22000b92c6ec\"      # endpoint \"Globus Tutorial Endpoint 2\"\n",
    "\n",
    "# As in the Platform_Introduction_Native_App_Auth notebook, do the Native App Grant Flow\n",
    "CLIENT_ID = \"3b1925c0-a87b-452b-a492-2c9921d3bd14\"\n",
    "SCOPES = \"openid profile email urn:globus:auth:scope:transfer.api.globus.org:all urn:globus:auth:scope:auth.globus.org:view_identities\"\n",
    "native_auth_client = globus_sdk.NativeAppAuthClient(CLIENT_ID)\n",
    "native_auth_client.oauth2_start_flow(requested_scopes=SCOPES)\n",
    "print(f\"Login Here:\\n\\n{native_auth_client.oauth2_get_authorize_url()}\")"
   ]
  },
  {
   "cell_type": "code",
   "execution_count": 208,
   "metadata": {},
   "outputs": [
    {
     "name": "stdout",
     "output_type": "stream",
     "text": [
      "TransferClient:\n",
      "\n",
      "<globus_sdk.transfer.client.TransferClient object at 0x7f923b7ca6a0>\n"
     ]
    }
   ],
   "source": [
    "# Fill this line in with the code that you got\n",
    "auth_code = \"hxSpk6faBp6pWaZHmIhuCLfWCNbB9V\"\n",
    "\n",
    "token_response = native_auth_client.oauth2_exchange_code_for_tokens(auth_code)\n",
    "transfer_access_token = token_response.by_resource_server['transfer.api.globus.org']['access_token']\n",
    "transfer_authorizer = globus_sdk.AccessTokenAuthorizer(transfer_access_token)\n",
    "\n",
    "# Your TransferClient is named \"tc\"\n",
    "tc = globus_sdk.TransferClient(authorizer=transfer_authorizer)\n",
    "print(f\"TransferClient:\\n\\n{tc}\")"
   ]
  },
  {
   "cell_type": "code",
   "execution_count": null,
   "metadata": {},
   "outputs": [],
   "source": [
    "class UserOptions:\n",
    "  def configure_ep(self):\n",
    "    # Check whether TC and Name are provided\n",
    "    if tc is None:\n",
    "        print (\"Cannot create Xtract Endpoint -- no globus transfer client provided\")\n",
    "        return False\n",
    "    if self.configure is None:\n",
    "      print (\"Cannot create Xtract Endpoint -- no endpoint name provided.\")\n",
    "      return False\n",
    "    \n",
    "    # Load user options stored locally\n",
    "    if os.path.isfile(\"/Users/joaovictor/\" + self.configure +  \"/config.json\"):\n",
    "      print (\"Found config file in /Users/joaovictor/\" + self.configure +  \"/config.json\") \n",
    "      data = None\n",
    "      with open(\"/Users/joaovictor/\" + self.configure +  \"/config.json\") as f:\n",
    "        data = json.loads(f.read())\n",
    "        for key in data.keys():\n",
    "          if DEBUG: print (key, data[key])\n",
    "          if hasattr (self, key):\n",
    "            setattr (self, key, data[key])\n",
    "    else:\n",
    "      print (\"No config file found or provided.\")\n",
    "    \n",
    "    if not self.globus_eid:\n",
    "      print(\"Cannot create Xtract Endpoint -- missing globus_eid\")\n",
    "      return False\n",
    "    if not self.local_metadata:\n",
    "      print(\"Cannot create Xtract Endpoint -- missing local metadata\")\n",
    "      return False\n",
    "    if not self.metadata_write_dir:\n",
    "      print(\"Cannot create Xtract Endpoint -- missing metadata write directory\")\n",
    "      return False\n",
    "    print (\"Created Xtract Endpoint!\")\n",
    "    return True\n",
    "\n",
    "  def __init__(self):\n",
    "    self.tc = None\n",
    "    self.configure = None\n",
    "    self.globus_eid = None\n",
    "    self.funcx_eid = None\n",
    "    self.local_metadata = None\n",
    "    self.metadata_write_dir = None"
   ]
  },
  {
   "cell_type": "code",
   "execution_count": 261,
   "metadata": {},
   "outputs": [],
   "source": [
    "'''\n",
    "Checks whether a funcx endpoint and globus endpoint are online, returning the result as a dictionary.\n",
    "Might be good to perform some basic error checking, particularly around funcx_response\n",
    "\n",
    "TODO: Catch problems in funcx-endpoint -- timeout of 30 seconds\n",
    "      Catch problems using TransferAPIError\n",
    "'''\n",
    "from time import sleep\n",
    "\n",
    "def is_online(ops:UserOptions, timeout:int):\n",
    "    res = {}\n",
    "    funcx_response = fxc.run(endpoint_id=ops.funcx_eid, function_id=hello_world_uuid)\n",
    "    globus_response = None\n",
    "    fxc_result = None\n",
    "    \n",
    "    if ops.funcx_eid is None:\n",
    "        res['funcx_eid'] = 'Funcx not present.'\n",
    "    else:\n",
    "        time_elapsed = 0\n",
    "        while time_elapsed < timeout:\n",
    "            try:\n",
    "                fxc_result = fxc.get_result(funcx_response)\n",
    "            except TaskPending as error:\n",
    "                if DEBUG: print(f'Task incomplete -- time elapsed: {time_elapsed}')\n",
    "                sleep(5)\n",
    "                time_elapsed += 5\n",
    "                if DEBUG: print(f'About to continue to next!')\n",
    "                continue\n",
    "            if DEBUG: print(f'About to call break and get out!')\n",
    "            break\n",
    "        if fxc_result is not None and fxc_result == 'Hello World!':\n",
    "            if DEBUG: print (f\"Task complete -- result: {fxc_result}\")\n",
    "            res['funcx_eid'] = 'OK'\n",
    "        if fxc_result is None:\n",
    "            res['funcx_eid'] = f'{error.reason}'\n",
    "        elif fxc_result != 'Hello World!':\n",
    "            res['funcx_eid'] = f'Error -- Expected: \\'Hello World!\\', but received: \\'{fxc_result}\\''\n",
    "    if ops.globus_eid is None:\n",
    "        res['globus_eid'] = 'Globus not present.'\n",
    "    else:\n",
    "        try:\n",
    "            endpoint = tc.get_endpoint(ops.globus_eid)\n",
    "        except TransferAPIError as error:\n",
    "            res['globus'] = f'Error Code: {error.code}, Error Message: {error.message}'\n",
    "            return res\n",
    "        if DEBUG: print (endpoint)\n",
    "        if endpoint is not None and endpoint['DATA'][0]['is_connected']:\n",
    "            res['globus_eid'] = 'OK'\n",
    "        else:\n",
    "            res['globus'] = 'Error'\n",
    "    return res"
   ]
  },
  {
   "cell_type": "code",
   "execution_count": 262,
   "metadata": {},
   "outputs": [
    {
     "name": "stdout",
     "output_type": "stream",
     "text": [
      "Found config file in /Users/joaovictor/test/config.json\n",
      "Created Xtract Endpoint!\n",
      "{'funcx_eid': 'OK', 'globus_eid': 'OK'}\n"
     ]
    }
   ],
   "source": [
    "ops = UserOptions()\n",
    "ops.tc = tc\n",
    "ops.configure = 'test'\n",
    "ops.configure_ep()\n",
    "\n",
    "print(is_online(ops, 60))"
   ]
  },
  {
   "cell_type": "code",
   "execution_count": null,
   "metadata": {
    "scrolled": true
   },
   "outputs": [],
   "source": []
  },
  {
   "cell_type": "code",
   "execution_count": null,
   "metadata": {},
   "outputs": [],
   "source": []
  },
  {
   "cell_type": "code",
   "execution_count": null,
   "metadata": {},
   "outputs": [],
   "source": []
  }
 ],
 "metadata": {
  "celltoolbar": "Tags",
  "interpreter": {
   "hash": "d74c300500e257aec40f36542c159da4e5c867b049e242da6e62844546cb75be"
  },
  "kernelspec": {
   "display_name": "Python 3",
   "language": "python",
   "name": "python3"
  },
  "language_info": {
   "codemirror_mode": {
    "name": "ipython",
    "version": 3
   },
   "file_extension": ".py",
   "mimetype": "text/x-python",
   "name": "python",
   "nbconvert_exporter": "python",
   "pygments_lexer": "ipython3",
   "version": "3.8.11"
  }
 },
 "nbformat": 4,
 "nbformat_minor": 2
}
